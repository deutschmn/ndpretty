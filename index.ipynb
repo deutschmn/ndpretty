{
 "cells": [
  {
   "cell_type": "code",
   "execution_count": null,
   "metadata": {},
   "outputs": [],
   "source": [
    "#hide\n",
    "import ndpretty"
   ]
  },
  {
   "cell_type": "markdown",
   "metadata": {},
   "source": [
    "# Welcome to `ndpretty`\n",
    "\n",
    "> Your little helper to display numpy ndarrays in a pretty table in Jupyter notebooks."
   ]
  },
  {
   "cell_type": "markdown",
   "metadata": {},
   "source": [
    "Jupyter notebooks are a great way to develop. `ndpretty` makes it even better for people who use numpy by providing nice formatting of `ndarray`s."
   ]
  },
  {
   "cell_type": "markdown",
   "metadata": {},
   "source": [
    "## Install"
   ]
  },
  {
   "cell_type": "markdown",
   "metadata": {},
   "source": [
    "`pip install ndpretty`"
   ]
  },
  {
   "cell_type": "markdown",
   "metadata": {},
   "source": [
    "## How to use"
   ]
  },
  {
   "cell_type": "code",
   "execution_count": null,
   "metadata": {},
   "outputs": [],
   "source": [
    "#hide\n",
    "import numpy as np"
   ]
  },
  {
   "cell_type": "markdown",
   "metadata": {},
   "source": [
    "The default configuration is loaded as simply as this:"
   ]
  },
  {
   "cell_type": "code",
   "execution_count": null,
   "metadata": {},
   "outputs": [],
   "source": [
    "ndpretty.default()"
   ]
  },
  {
   "cell_type": "markdown",
   "metadata": {},
   "source": [
    "After this line has been exectued, all cell outputs that are `np.ndarray` or `torch.Tensor` are automatically formatted by ndpretty."
   ]
  },
  {
   "cell_type": "code",
   "execution_count": null,
   "metadata": {},
   "outputs": [
    {
     "name": "stdout",
     "output_type": "stream",
     "text": [
      "20×30×2 float64 ndarray\n"
     ]
    },
    {
     "data": {
      "application/vnd.jupyter.widget-view+json": {
       "model_id": "6e3a3a06881749de93108eb1c58bb8fa",
       "version_major": 2,
       "version_minor": 0
      },
      "text/plain": "interactive(children=(Text(value='[:, :, 0]', description='Slice:', placeholder='e.g. [:, :, 0]'), Output()), …"
     },
     "metadata": {},
     "output_type": "display_data"
    },
    {
     "data": {
      "text/plain": []
     },
     "execution_count": null,
     "metadata": {},
     "output_type": "execute_result"
    }
   ],
   "source": [
    "a = np.random.rand(20, 30, 2)\n",
    "a"
   ]
  },
  {
   "cell_type": "markdown",
   "metadata": {},
   "source": [
    "## Why?\n",
    "\n",
    "Normally, `ndarray`s look like this in a Jupyter notebook:"
   ]
  },
  {
   "cell_type": "code",
   "execution_count": null,
   "metadata": {},
   "outputs": [
    {
     "name": "stdout",
     "output_type": "stream",
     "text": [
      "[[[0.92987402 0.37964951]\n  [0.71744738 0.67610855]\n  [0.29951481 0.88342422]\n  ...\n  [0.58128952 0.34467292]\n  [0.25793956 0.56561584]\n  [0.11380439 0.53225802]]\n\n [[0.74660138 0.74797719]\n  [0.29961368 0.95045383]\n  [0.12346484 0.4300995 ]\n  ...\n  [0.37511978 0.75818852]\n  [0.24318183 0.26340081]\n  [0.43413628 0.1152024 ]]\n\n [[0.7719407  0.69951099]\n  [0.67462352 0.86656649]\n  [0.31217199 0.45763672]\n  ...\n  [0.46353269 0.13409251]\n  [0.49566843 0.09770757]\n  [0.32025045 0.7622831 ]]\n\n ...\n\n [[0.75372323 0.34762715]\n  [0.22319648 0.04102715]\n  [0.93972069 0.29059917]\n  ...\n  [0.25051261 0.38179117]\n  [0.79411028 0.31214728]\n  [0.75248059 0.39229262]]\n\n [[0.53900449 0.2093348 ]\n  [0.70453061 0.09488001]\n  [0.05090444 0.64068512]\n  ...\n  [0.97843977 0.81601184]\n  [0.27656764 0.19184449]\n  [0.99781007 0.35601416]]\n\n [[0.65816237 0.59816489]\n  [0.40112403 0.06420206]\n  [0.97024711 0.61586378]\n  ...\n  [0.46107372 0.27605212]\n  [0.58429168 0.50894938]\n  [0.73329027 0.03234803]]]\n"
     ]
    }
   ],
   "source": [
    "a = np.random.rand(20, 30, 2)\n",
    "print(a)"
   ]
  },
  {
   "cell_type": "markdown",
   "metadata": {},
   "source": [
    "At least to me, that's quite hard to read. Using `ndpretty` they look like this:"
   ]
  },
  {
   "cell_type": "code",
   "execution_count": null,
   "metadata": {},
   "outputs": [
    {
     "name": "stdout",
     "output_type": "stream",
     "text": [
      "10×20 float64 ndarray\n"
     ]
    },
    {
     "data": {
      "text/html": "<div style=\"overflow: auto\"><table><tr><th></th><th>0</th><th>1</th><th>2</th><th>3</th><th>4</th><th>5</th><th>6</th><th>7</th><th>8</th><th>9</th><th>10</th><th>11</th><th>12</th><th>13</th><th>14</th><th>15</th><th>16</th><th>17</th><th>18</th><th>19</th></tr><tr><td><b>0</b></td><td style=\"background-color: #8064dd\">0.172</td><td style=\"background-color: #8f5dc2\">0.304</td><td style=\"background-color: #955ab7\">0.35935</td><td style=\"background-color: #ce3d50\">0.87212</td><td style=\"background-color: #706cf9\">0.031372</td><td style=\"background-color: #8562d3\">0.22138</td><td style=\"background-color: #736bf4\">0.058852</td><td style=\"background-color: #c8405a\">0.82388</td><td style=\"background-color: #d03c4c\">0.88954</td><td style=\"background-color: #b34b80\">0.63458</td><td style=\"background-color: #c44261\">0.7848</td><td style=\"background-color: #7d66e2\">0.14864</td><td style=\"background-color: #7868ec\">0.098311</td><td style=\"background-color: #925bbc\">0.33422</td><td style=\"background-color: #8363d8\">0.19865</td><td style=\"background-color: #ab4f8e\">0.56503</td><td style=\"background-color: #a253a0\">0.47566</td><td style=\"background-color: #b54a7c\">0.65214</td><td style=\"background-color: #7868eb\">0.10504</td><td style=\"background-color: #8860ce\">0.24646</td></tr><tr><td><b>1</b></td><td style=\"background-color: #a4529c\">0.49629</td><td style=\"background-color: #8d5ec6\">0.2875</td><td style=\"background-color: #8562d5\">0.21376</td><td style=\"background-color: #cd3e50\">0.87011</td><td style=\"background-color: #9b57ad\">0.41251</td><td style=\"background-color: #945ab9\">0.3492</td><td style=\"background-color: #cd3e50\">0.87058</td><td style=\"background-color: #7d66e2\">0.14856</td><td style=\"background-color: #d23b48\">0.9124</td><td style=\"background-color: #706cf9\">0.032717</td><td style=\"background-color: #af4d87\">0.60037</td><td style=\"background-color: #8164da\">0.18571</td><td style=\"background-color: #925bbb\">0.33844</td><td style=\"background-color: #cf3d4d\">0.88618</td><td style=\"background-color: #db3737\">0.99452</td><td style=\"background-color: #dc3737\">0.99768</td><td style=\"background-color: #a3539c\">0.49223</td><td style=\"background-color: #706cfa\">0.030057</td><td style=\"background-color: #c84059\">0.8248</td><td style=\"background-color: #8f5dc1\">0.31247</td></tr><tr><td><b>2</b></td><td style=\"background-color: #ac4e8c\">0.57389</td><td style=\"background-color: #c44262\">0.78371</td><td style=\"background-color: #7868eb\">0.10432</td><td style=\"background-color: #d53a42\">0.94071</td><td style=\"background-color: #706cfb\">0.025654</td><td style=\"background-color: #d03c4c\">0.89281</td><td style=\"background-color: #ab4f8f\">0.56087</td><td style=\"background-color: #726bf6\">0.04658</td><td style=\"background-color: #8860cf\">0.24385</td><td style=\"background-color: #a4529b\">0.5017</td><td style=\"background-color: #c7415c\">0.81116</td><td style=\"background-color: #9d56a8\">0.43327</td><td style=\"background-color: #cc3e52\">0.85941</td><td style=\"background-color: #b14c85\">0.61099</td><td style=\"background-color: #b34b80\">0.63328</td><td style=\"background-color: #c8405a\">0.82416</td><td style=\"background-color: #8164db\">0.18199</td><td style=\"background-color: #d03c4b\">0.89499</td><td style=\"background-color: #d23b48\">0.91048</td><td style=\"background-color: #7a67e9\">0.11453</td></tr><tr><td><b>3</b></td><td style=\"background-color: #ca3f57\">0.83681</td><td style=\"background-color: #b24b82\">0.62487</td><td style=\"background-color: #7868eb\">0.10243</td><td style=\"background-color: #716cf8\">0.038466</td><td style=\"background-color: #c24364\">0.7711</td><td style=\"background-color: #d03c4c\">0.89235</td><td style=\"background-color: #8661d1\">0.22994</td><td style=\"background-color: #8960cc\">0.25512</td><td style=\"background-color: #c94058\">0.83009</td><td style=\"background-color: #ad4e8b\">0.57939</td><td style=\"background-color: #7669ee\">0.086441</td><td style=\"background-color: #955ab6\">0.36582</td><td style=\"background-color: #d9383c\">0.97074</td><td style=\"background-color: #8164db\">0.18015</td><td style=\"background-color: #d9383b\">0.97308</td><td style=\"background-color: #c04468\">0.75056</td><td style=\"background-color: #c5425f\">0.79813</td><td style=\"background-color: #d7393f\">0.95521</td><td style=\"background-color: #b6497a\">0.66065</td><td style=\"background-color: #a2539f\">0.47834</td></tr><tr><td><b>4</b></td><td style=\"background-color: #a65197\">0.51785</td><td style=\"background-color: #d33b46\">0.92295</td><td style=\"background-color: #c34363\">0.77579</td><td style=\"background-color: #b04c86\">0.6013</td><td style=\"background-color: #d9383b\">0.97437</td><td style=\"background-color: #db3737\">0.99624</td><td style=\"background-color: #935bbb\">0.34116</td><td style=\"background-color: #736bf4\">0.056003</td><td style=\"background-color: #7a67e7\">0.12185</td><td style=\"background-color: #7769ed\">0.09471</td><td style=\"background-color: #b04c86\">0.60243</td><td style=\"background-color: #9f55a5\">0.44888</td><td style=\"background-color: #756af1\">0.075441</td><td style=\"background-color: #7e65e0\">0.15651</td><td style=\"background-color: #c8405a\">0.81946</td><td style=\"background-color: #b74978\">0.67074</td><td style=\"background-color: #d8383c\">0.96864</td><td style=\"background-color: #8860cf\">0.24361</td><td style=\"background-color: #a054a3\">0.46171</td><td style=\"background-color: #b6497b\">0.65957</td></tr><tr><td><b>5</b></td><td style=\"background-color: #ac4e8e\">0.56503</td><td style=\"background-color: #ac4e8d\">0.56792</td><td style=\"background-color: #be456c\">0.7335</td><td style=\"background-color: #c44260\">0.78986</td><td style=\"background-color: #8960cd\">0.25387</td><td style=\"background-color: #7d66e2\">0.1481</td><td style=\"background-color: #8b5fc9\">0.26923</td><td style=\"background-color: #8064dc\">0.17554</td><td style=\"background-color: #c8405a\">0.82304</td><td style=\"background-color: #8661d3\">0.22295</td><td style=\"background-color: #945ab8\">0.3541</td><td style=\"background-color: #955ab7\">0.36154</td><td style=\"background-color: #716cf9\">0.034015</td><td style=\"background-color: #c84059\">0.82546</td><td style=\"background-color: #a3539c\">0.49211</td><td style=\"background-color: #7868eb\">0.10329</td><td style=\"background-color: #a75196\">0.52473</td><td style=\"background-color: #ab4f8f\">0.55844</td><td style=\"background-color: #d9383b\">0.97438</td><td style=\"background-color: #9b57ac\">0.41612</td></tr><tr><td><b>6</b></td><td style=\"background-color: #8d5ec5\">0.29306</td><td style=\"background-color: #db3738\">0.99062</td><td style=\"background-color: #9958af\">0.40069</td><td style=\"background-color: #cb3f55\">0.84792</td><td style=\"background-color: #7d66e2\">0.14544</td><td style=\"background-color: #d33b46\">0.91842</td><td style=\"background-color: #7e65e1\">0.15275</td><td style=\"background-color: #6e6eff\">0.0062003</td><td style=\"background-color: #716cf8\">0.040803</td><td style=\"background-color: #7a67e8\">0.11639</td><td style=\"background-color: #b14c84\">0.61444</td><td style=\"background-color: #da3739\">0.98284</td><td style=\"background-color: #9958b0\">0.39388</td><td style=\"background-color: #d9383b\">0.97453</td><td style=\"background-color: #925bbc\">0.33716</td><td style=\"background-color: #c44261\">0.78618</td><td style=\"background-color: #ab4f8e\">0.56437</td><td style=\"background-color: #8c5ec6\">0.28497</td><td style=\"background-color: #db3737\">0.99679</td><td style=\"background-color: #8f5dc1\">0.30997</td></tr><tr><td><b>7</b></td><td style=\"background-color: #c44261\">0.78647</td><td style=\"background-color: #a054a3\">0.46071</td><td style=\"background-color: #bc4670\">0.71207</td><td style=\"background-color: #9f55a4\">0.45573</td><td style=\"background-color: #ad4e8b\">0.58117</td><td style=\"background-color: #d8383c\">0.9683</td><td style=\"background-color: #8b5fc9\">0.27122</td><td style=\"background-color: #cf3d4e\">0.88164</td><td style=\"background-color: #9659b6\">0.36748</td><td style=\"background-color: #a75196\">0.52536</td><td style=\"background-color: #db3737\">0.99705</td><td style=\"background-color: #9659b6\">0.36795</td><td style=\"background-color: #bc4670\">0.71488</td><td style=\"background-color: #8263d9\">0.19185</td><td style=\"background-color: #9b57ac\">0.41486</td><td style=\"background-color: #925bbc\">0.3349</td><td style=\"background-color: #a3539d\">0.49071</td><td style=\"background-color: #b04c86\">0.60455</td><td style=\"background-color: #9d56a9\">0.43199</td><td style=\"background-color: #756af1\">0.075156</td></tr><tr><td><b>8</b></td><td style=\"background-color: #bc4670\">0.71463</td><td style=\"background-color: #9a57ad\">0.40872</td><td style=\"background-color: #8562d3\">0.22108</td><td style=\"background-color: #cf3d4d\">0.88837</td><td style=\"background-color: #d9383b\">0.9758</td><td style=\"background-color: #ca3f56\">0.84329</td><td style=\"background-color: #9e55a6\">0.44345</td><td style=\"background-color: #bb4772\">0.70284</td><td style=\"background-color: #c6415e\">0.80352</td><td style=\"background-color: #9e55a6\">0.44376</td><td style=\"background-color: #915cbe\">0.32654</td><td style=\"background-color: #905cc0\">0.31477</td><td style=\"background-color: #a75195\">0.52778</td><td style=\"background-color: #c44262\">0.78344</td><td style=\"background-color: #7e65e1\">0.1517</td><td style=\"background-color: #9f55a5\">0.45061</td><td style=\"background-color: #b6497b\">0.65948</td><td style=\"background-color: #9659b5\">0.37152</td><td style=\"background-color: #c54260\">0.79157</td><td style=\"background-color: #8e5dc4\">0.29559</td></tr><tr><td><b>9</b></td><td style=\"background-color: #d9383c\">0.97149</td><td style=\"background-color: #9b57ad\">0.41264</td><td style=\"background-color: #ad4e8b\">0.57658</td><td style=\"background-color: #a85094\">0.53579</td><td style=\"background-color: #b94875\">0.68889</td><td style=\"background-color: #a054a2\">0.46231</td><td style=\"background-color: #a3539d\">0.48988</td><td style=\"background-color: #7e65e0\">0.1558</td><td style=\"background-color: #7c66e5\">0.13263</td><td style=\"background-color: #8d5ec6\">0.28687</td><td style=\"background-color: #a154a1\">0.47125</td><td style=\"background-color: #a75197\">0.52</td><td style=\"background-color: #a5529a\">0.50266</td><td style=\"background-color: #9958b0\">0.39431</td><td style=\"background-color: #8164db\">0.18082</td><td style=\"background-color: #9a57ae\">0.40405</td><td style=\"background-color: #8e5dc3\">0.30232</td><td style=\"background-color: #ce3d4f\">0.87414</td><td style=\"background-color: #7d66e3\">0.14476</td><td style=\"background-color: #955ab6\">0.36428</td></tr></table></div>",
      "text/plain": "<IPython.core.display.HTML object>"
     },
     "metadata": {},
     "output_type": "display_data"
    },
    {
     "data": {
      "text/plain": []
     },
     "execution_count": null,
     "metadata": {},
     "output_type": "execute_result"
    }
   ],
   "source": [
    "np.random.rand(10, 20)"
   ]
  },
  {
   "cell_type": "markdown",
   "metadata": {},
   "source": [
    "## Author\n",
    "\n",
    "Patrick Deutschmann ([patrick@deutschmann.xyz](mailto:patrick@deutschmann.xyz))"
   ]
  }
 ],
 "metadata": {
  "kernelspec": {
   "display_name": "Python 3",
   "language": "python",
   "name": "python3"
  }
 },
 "nbformat": 4,
 "nbformat_minor": 2
}
