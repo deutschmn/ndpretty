{
 "cells": [
  {
   "cell_type": "code",
   "execution_count": null,
   "metadata": {},
   "outputs": [],
   "source": [
    "# default_exp core"
   ]
  },
  {
   "cell_type": "markdown",
   "metadata": {},
   "source": [
    "# Implementation\n",
    "\n",
    "This is the implementation of `ndpretty`. "
   ]
  },
  {
   "cell_type": "code",
   "execution_count": null,
   "metadata": {},
   "outputs": [],
   "source": [
    "#export\n",
    "import numpy as np\n",
    "from sys import modules\n",
    "\n",
    "import IPython\n",
    "from ipywidgets import interact, interactive, fixed, interact_manual\n",
    "import ipywidgets as widgets"
   ]
  },
  {
   "cell_type": "code",
   "execution_count": null,
   "metadata": {},
   "outputs": [
    {
     "data": {
      "application/vnd.jupyter.widget-view+json": {
       "model_id": "4aa1e372672b4a8e8f7ef34081beedc7",
       "version_major": 2,
       "version_minor": 0
      },
      "text/plain": "interactive(children=(FloatSlider(value=0.0, description='alpha', max=1.0, step=0.01), Output()), _dom_classes…"
     },
     "metadata": {},
     "output_type": "display_data"
    },
    {
     "data": {
      "text/plain": [
       "<function __main__.show_my_color(alpha)>"
      ]
     },
     "execution_count": null,
     "metadata": {},
     "output_type": "execute_result"
    }
   ],
   "source": [
    "#hide\n",
    "lowest_color = (110, 110, 255)\n",
    "highest_color = (220, 55, 55)\n",
    "\n",
    "def show_my_color(alpha):\n",
    "    rgb = tuple((alpha * np.array(highest_color) + (1 - alpha) * np.array(lowest_color)).astype(np.uint8))\n",
    "    show_color(rgb)\n",
    "\n",
    "interact(show_my_color, alpha=widgets.FloatSlider(min=0, max=1, step=0.01, value=0))"
   ]
  },
  {
   "cell_type": "markdown",
   "metadata": {},
   "source": [
    "Some static definitions of the colour scale and the number format."
   ]
  },
  {
   "cell_type": "code",
   "execution_count": null,
   "metadata": {},
   "outputs": [],
   "source": [
    "#export\n",
    "lowest_color = (110, 110, 255)\n",
    "highest_color = (220, 55, 55)\n",
    "\n",
    "number_format = '%.5g'"
   ]
  },
  {
   "cell_type": "markdown",
   "metadata": {},
   "source": [
    "And the core implementation:"
   ]
  },
  {
   "cell_type": "code",
   "execution_count": null,
   "metadata": {},
   "outputs": [],
   "source": [
    "#export\n",
    "def ndarray_html(a):\n",
    "    assert type(np.array([])) == np.ndarray, 'Only numpy ndarrays are supported'\n",
    "\n",
    "    if len(a.shape) == 1:\n",
    "        if a.shape[0] == 0:\n",
    "            print('[]')\n",
    "            return\n",
    "        _html_array(a[:,np.newaxis])\n",
    "    elif len(a.shape) == 2:\n",
    "        _html_array(a)\n",
    "    elif len(a.shape) > 2:\n",
    "        d = len(a.shape)\n",
    "        slice_str = \"[:, :, \" + \"0, \" * (d - 3) + \"0]\"\n",
    "        slice_widget = widgets.Text(\n",
    "            value=slice_str,\n",
    "            placeholder=\"e.g. \" + slice_str,\n",
    "            description='Slice:',\n",
    "            disabled=False\n",
    "        )\n",
    "        interact(_html_higher_d_array, a=fixed(a), slice_str=slice_widget)\n",
    "\n",
    "def _to_HTML(a, alphas, is_numeric, lowest_color, highest_color):\n",
    "    html = '<div style=\"overflow: auto\">'\n",
    "    html += '<table>'\n",
    "    html += '<tr>'\n",
    "    html += '<th></th>'\n",
    "    for j in range(a.shape[1]):\n",
    "        html += f'<th>{j}</th>'\n",
    "    html += '</tr>'\n",
    "\n",
    "    for i in range(a.shape[0]):\n",
    "        html += \"<tr>\"\n",
    "        html += f'<td><b>{i}</b></td>'\n",
    "        for j in range(a.shape[1]):\n",
    "            alpha = alphas[i][j]\n",
    "            rgb_color = tuple((alpha * np.array(highest_color) + (1 - alpha) * np.array(lowest_color)).astype(np.uint8))\n",
    "            hex_color = '#%02x%02x%02x' % rgb_color\n",
    "            if is_numeric:\n",
    "                value = number_format % a[i][j]\n",
    "            else:\n",
    "                value = str(a[i][j])\n",
    "            html += '<td style=\"background-color: %s\">%s</td>' % (hex_color, value)\n",
    "        html += \"</tr>\"\n",
    "    html += '</table>'\n",
    "    html += '</div>'\n",
    "    return html\n",
    "\n",
    "def _html_higher_d_array(a, slice_str):\n",
    "    try: \n",
    "        sliced_a = eval(\"a\" + slice_str)\n",
    "        assert len(sliced_a.shape) == 2, \"didn't slice down to 2D\"\n",
    "        _html_array(sliced_a)\n",
    "    except Exception as e:\n",
    "        print(\"Invalid slice: \" + str(e))\n",
    "\n",
    "def _html_array(a):   \n",
    "    is_numeric = np.issubdtype(a.dtype, np.number)\n",
    "\n",
    "    if is_numeric:\n",
    "        a_range = a.max() - a.min()\n",
    "        if a_range == 0:\n",
    "            alphas = np.zeros_like(a, dtype=np.float) + 0.5\n",
    "        else:\n",
    "            alphas = (a - a.min()) / a_range\n",
    "    elif np.issubdtype(a.dtype, np.bool_):\n",
    "        alphas = a.astype(np.float)\n",
    "    else:\n",
    "        alphas = np.zeros_like(a, dtype=np.float) + 0.5\n",
    "\n",
    "    html = _to_HTML(a, alphas, is_numeric, lowest_color, highest_color)\n",
    "    IPython.core.display.display(IPython.display.HTML(html))"
   ]
  },
  {
   "cell_type": "markdown",
   "metadata": {},
   "source": [
    "## Example usages\n",
    "\n",
    "A numeric 2D array:"
   ]
  },
  {
   "cell_type": "code",
   "execution_count": null,
   "metadata": {},
   "outputs": [
    {
     "data": {
      "text/html": "<div style=\"overflow: auto\"><table><tr><th></th><th>0</th><th>1</th><th>2</th><th>3</th><th>4</th><th>5</th><th>6</th><th>7</th><th>8</th><th>9</th></tr><tr><td><b>0</b></td><td style=\"background-color: #dc3737\">1</td><td style=\"background-color: #6e6eff\">0</td><td style=\"background-color: #6e6eff\">0</td><td style=\"background-color: #6e6eff\">0</td><td style=\"background-color: #6e6eff\">0</td><td style=\"background-color: #6e6eff\">0</td><td style=\"background-color: #6e6eff\">0</td><td style=\"background-color: #6e6eff\">0</td><td style=\"background-color: #6e6eff\">0</td><td style=\"background-color: #6e6eff\">0</td></tr><tr><td><b>1</b></td><td style=\"background-color: #6e6eff\">0</td><td style=\"background-color: #dc3737\">1</td><td style=\"background-color: #6e6eff\">0</td><td style=\"background-color: #6e6eff\">0</td><td style=\"background-color: #6e6eff\">0</td><td style=\"background-color: #6e6eff\">0</td><td style=\"background-color: #6e6eff\">0</td><td style=\"background-color: #6e6eff\">0</td><td style=\"background-color: #6e6eff\">0</td><td style=\"background-color: #6e6eff\">0</td></tr><tr><td><b>2</b></td><td style=\"background-color: #6e6eff\">0</td><td style=\"background-color: #6e6eff\">0</td><td style=\"background-color: #dc3737\">1</td><td style=\"background-color: #6e6eff\">0</td><td style=\"background-color: #6e6eff\">0</td><td style=\"background-color: #6e6eff\">0</td><td style=\"background-color: #6e6eff\">0</td><td style=\"background-color: #6e6eff\">0</td><td style=\"background-color: #6e6eff\">0</td><td style=\"background-color: #6e6eff\">0</td></tr><tr><td><b>3</b></td><td style=\"background-color: #6e6eff\">0</td><td style=\"background-color: #6e6eff\">0</td><td style=\"background-color: #6e6eff\">0</td><td style=\"background-color: #dc3737\">1</td><td style=\"background-color: #6e6eff\">0</td><td style=\"background-color: #6e6eff\">0</td><td style=\"background-color: #6e6eff\">0</td><td style=\"background-color: #6e6eff\">0</td><td style=\"background-color: #6e6eff\">0</td><td style=\"background-color: #6e6eff\">0</td></tr><tr><td><b>4</b></td><td style=\"background-color: #6e6eff\">0</td><td style=\"background-color: #6e6eff\">0</td><td style=\"background-color: #6e6eff\">0</td><td style=\"background-color: #6e6eff\">0</td><td style=\"background-color: #dc3737\">1</td><td style=\"background-color: #6e6eff\">0</td><td style=\"background-color: #6e6eff\">0</td><td style=\"background-color: #6e6eff\">0</td><td style=\"background-color: #6e6eff\">0</td><td style=\"background-color: #6e6eff\">0</td></tr><tr><td><b>5</b></td><td style=\"background-color: #6e6eff\">0</td><td style=\"background-color: #6e6eff\">0</td><td style=\"background-color: #6e6eff\">0</td><td style=\"background-color: #6e6eff\">0</td><td style=\"background-color: #6e6eff\">0</td><td style=\"background-color: #dc3737\">1</td><td style=\"background-color: #6e6eff\">0</td><td style=\"background-color: #6e6eff\">0</td><td style=\"background-color: #6e6eff\">0</td><td style=\"background-color: #6e6eff\">0</td></tr><tr><td><b>6</b></td><td style=\"background-color: #6e6eff\">0</td><td style=\"background-color: #6e6eff\">0</td><td style=\"background-color: #6e6eff\">0</td><td style=\"background-color: #6e6eff\">0</td><td style=\"background-color: #6e6eff\">0</td><td style=\"background-color: #6e6eff\">0</td><td style=\"background-color: #dc3737\">1</td><td style=\"background-color: #6e6eff\">0</td><td style=\"background-color: #6e6eff\">0</td><td style=\"background-color: #6e6eff\">0</td></tr><tr><td><b>7</b></td><td style=\"background-color: #6e6eff\">0</td><td style=\"background-color: #6e6eff\">0</td><td style=\"background-color: #6e6eff\">0</td><td style=\"background-color: #6e6eff\">0</td><td style=\"background-color: #6e6eff\">0</td><td style=\"background-color: #6e6eff\">0</td><td style=\"background-color: #6e6eff\">0</td><td style=\"background-color: #dc3737\">1</td><td style=\"background-color: #6e6eff\">0</td><td style=\"background-color: #6e6eff\">0</td></tr><tr><td><b>8</b></td><td style=\"background-color: #6e6eff\">0</td><td style=\"background-color: #6e6eff\">0</td><td style=\"background-color: #6e6eff\">0</td><td style=\"background-color: #6e6eff\">0</td><td style=\"background-color: #6e6eff\">0</td><td style=\"background-color: #6e6eff\">0</td><td style=\"background-color: #6e6eff\">0</td><td style=\"background-color: #6e6eff\">0</td><td style=\"background-color: #dc3737\">1</td><td style=\"background-color: #6e6eff\">0</td></tr><tr><td><b>9</b></td><td style=\"background-color: #6e6eff\">0</td><td style=\"background-color: #6e6eff\">0</td><td style=\"background-color: #6e6eff\">0</td><td style=\"background-color: #6e6eff\">0</td><td style=\"background-color: #6e6eff\">0</td><td style=\"background-color: #6e6eff\">0</td><td style=\"background-color: #6e6eff\">0</td><td style=\"background-color: #6e6eff\">0</td><td style=\"background-color: #6e6eff\">0</td><td style=\"background-color: #dc3737\">1</td></tr></table></div>",
      "text/plain": "<IPython.core.display.HTML object>"
     },
     "metadata": {},
     "output_type": "display_data"
    }
   ],
   "source": [
    "ndarray_html(np.diag(np.ones(10)))"
   ]
  },
  {
   "cell_type": "markdown",
   "metadata": {},
   "source": [
    "A numeric 1D array:"
   ]
  },
  {
   "cell_type": "code",
   "execution_count": null,
   "metadata": {},
   "outputs": [
    {
     "data": {
      "text/html": "<div style=\"overflow: auto\"><table><tr><th></th><th>0</th></tr><tr><td><b>0</b></td><td style=\"background-color: #a5529b\">1</td></tr><tr><td><b>1</b></td><td style=\"background-color: #a5529b\">1</td></tr><tr><td><b>2</b></td><td style=\"background-color: #a5529b\">1</td></tr><tr><td><b>3</b></td><td style=\"background-color: #a5529b\">1</td></tr><tr><td><b>4</b></td><td style=\"background-color: #a5529b\">1</td></tr><tr><td><b>5</b></td><td style=\"background-color: #a5529b\">1</td></tr><tr><td><b>6</b></td><td style=\"background-color: #a5529b\">1</td></tr><tr><td><b>7</b></td><td style=\"background-color: #a5529b\">1</td></tr><tr><td><b>8</b></td><td style=\"background-color: #a5529b\">1</td></tr><tr><td><b>9</b></td><td style=\"background-color: #a5529b\">1</td></tr></table></div>",
      "text/plain": "<IPython.core.display.HTML object>"
     },
     "metadata": {},
     "output_type": "display_data"
    }
   ],
   "source": [
    "ndarray_html(np.ones((10,)))"
   ]
  },
  {
   "cell_type": "markdown",
   "metadata": {},
   "source": [
    "A numeric 4D array:"
   ]
  },
  {
   "cell_type": "code",
   "execution_count": null,
   "metadata": {},
   "outputs": [
    {
     "data": {
      "application/vnd.jupyter.widget-view+json": {
       "model_id": "0ed0bd9582424c6dba60f8e4ee69dc8b",
       "version_major": 2,
       "version_minor": 0
      },
      "text/plain": "interactive(children=(Text(value='[:, :, 0, 0]', description='Slice:', placeholder='e.g. [:, :, 0, 0]'), Outpu…"
     },
     "metadata": {},
     "output_type": "display_data"
    }
   ],
   "source": [
    "ndarray_html(np.random.rand(2, 3, 4, 5))"
   ]
  },
  {
   "cell_type": "markdown",
   "metadata": {},
   "source": [
    "When an ndarray has more than two dimensions, a text field (an [ipywidget](https://ipywidgets.readthedocs.io)) is depicted on top of the table, where the user can slice down the array to have two dimension, so that it can be displayed in a table.\n",
    "\n",
    "_Note: The `ipywidget` that is used for multi-dimensional arrays is not correctly rendered in the documentation. Therefore see this screenshot:_ \n",
    "\n",
    "<img src=\"img/4D.png\" height=\"100px\" />"
   ]
  },
  {
   "cell_type": "markdown",
   "metadata": {},
   "source": [
    "A string array:"
   ]
  },
  {
   "cell_type": "code",
   "execution_count": null,
   "metadata": {},
   "outputs": [
    {
     "data": {
      "text/html": "<div style=\"overflow: auto\"><table><tr><th></th><th>0</th><th>1</th><th>2</th></tr><tr><td><b>0</b></td><td style=\"background-color: #a5529b\">nd</td><td style=\"background-color: #a5529b\"></td><td style=\"background-color: #a5529b\"></td></tr><tr><td><b>1</b></td><td style=\"background-color: #a5529b\"></td><td style=\"background-color: #a5529b\">pretty</td><td style=\"background-color: #a5529b\"></td></tr><tr><td><b>2</b></td><td style=\"background-color: #a5529b\"></td><td style=\"background-color: #a5529b\"></td><td style=\"background-color: #a5529b\">ndpretty</td></tr></table></div>",
      "text/plain": "<IPython.core.display.HTML object>"
     },
     "metadata": {},
     "output_type": "display_data"
    }
   ],
   "source": [
    "ndarray_html(np.diag(['nd', 'pretty', 'ndpretty']))"
   ]
  },
  {
   "cell_type": "markdown",
   "metadata": {},
   "source": [
    "A bool array:"
   ]
  },
  {
   "cell_type": "code",
   "execution_count": null,
   "metadata": {},
   "outputs": [
    {
     "data": {
      "text/html": "<div style=\"overflow: auto\"><table><tr><th></th><th>0</th></tr><tr><td><b>0</b></td><td style=\"background-color: #dc3737\">True</td></tr><tr><td><b>1</b></td><td style=\"background-color: #6e6eff\">False</td></tr><tr><td><b>2</b></td><td style=\"background-color: #dc3737\">True</td></tr></table></div>",
      "text/plain": "<IPython.core.display.HTML object>"
     },
     "metadata": {},
     "output_type": "display_data"
    }
   ],
   "source": [
    "ndarray_html(np.array([True, False, True]))"
   ]
  },
  {
   "cell_type": "markdown",
   "metadata": {},
   "source": [
    "## Registering formatters for IPython\n",
    "\n",
    "We don't always want to call `ndarray_html` to show our nice table. In order to make it the default formatter for cell return values, here are some helper functions to automatically register the formatters.\n",
    "\n",
    "This makes use of [IPyhton third-party formatters](https://ipython.readthedocs.io/en/stable/config/integrating.html?highlight=third%20party#formatters-for-third-party-types)."
   ]
  },
  {
   "cell_type": "code",
   "execution_count": null,
   "metadata": {},
   "outputs": [],
   "source": [
    "#export\n",
    "def register_formatter(dtype, html_formatter, print_formatter=None):\n",
    "    formatters = get_ipython().display_formatter.formatters\n",
    "    \n",
    "    formatters['text/html'].for_type(dtype, html_formatter)\n",
    "    if print_formatter is not None:\n",
    "        formatters['text/plain'].for_type(dtype, print_formatter)"
   ]
  },
  {
   "cell_type": "markdown",
   "metadata": {},
   "source": [
    "### for `ndarray`"
   ]
  },
  {
   "cell_type": "code",
   "execution_count": null,
   "metadata": {},
   "outputs": [],
   "source": [
    "#export\n",
    "def ndarray_stats_print_formatter(x, _, __):\n",
    "    print('×'.join(map(str, x.shape)) + \" \" + str(x.dtype) + ' ndarray')\n",
    "\n",
    "def no_print_formatter(x, _, __):\n",
    "    return\n",
    "\n",
    "def register_ndarray_formatter(print_formatter=ndarray_stats_print_formatter):\n",
    "    register_formatter(np.ndarray, ndarray_html, print_formatter)"
   ]
  },
  {
   "cell_type": "markdown",
   "metadata": {},
   "source": [
    "A formatter can be registered like this:"
   ]
  },
  {
   "cell_type": "code",
   "execution_count": null,
   "metadata": {},
   "outputs": [],
   "source": [
    "register_ndarray_formatter()"
   ]
  },
  {
   "cell_type": "markdown",
   "metadata": {},
   "source": [
    "From then onwards, all returned ndarrays are formatted using ndpretty."
   ]
  },
  {
   "cell_type": "code",
   "execution_count": null,
   "metadata": {},
   "outputs": [
    {
     "name": "stdout",
     "output_type": "stream",
     "text": [
      "2×8 float64 ndarray\n"
     ]
    },
    {
     "data": {
      "text/html": "<div style=\"overflow: auto\"><table><tr><th></th><th>0</th><th>1</th><th>2</th><th>3</th><th>4</th><th>5</th><th>6</th><th>7</th></tr><tr><td><b>0</b></td><td style=\"background-color: #c94058\">0.81925</td><td style=\"background-color: #dc3737\">0.985</td><td style=\"background-color: #ba4773\">0.6877</td><td style=\"background-color: #945ab9\">0.34436</td><td style=\"background-color: #bf456a\">0.73254</td><td style=\"background-color: #935bba\">0.33994</td><td style=\"background-color: #d9383b\">0.96066</td><td style=\"background-color: #b6497b\">0.64544</td></tr><tr><td><b>1</b></td><td style=\"background-color: #6e6eff\">0.00046616</td><td style=\"background-color: #6f6dfc\">0.010748</td><td style=\"background-color: #746af3\">0.05776</td><td style=\"background-color: #7868eb\">0.09779</td><td style=\"background-color: #c54260\">0.78097</td><td style=\"background-color: #d53a41\">0.93091</td><td style=\"background-color: #cc3e53\">0.84262</td><td style=\"background-color: #d23b47\">0.90214</td></tr></table></div>",
      "text/plain": "<IPython.core.display.HTML object>"
     },
     "metadata": {},
     "output_type": "display_data"
    },
    {
     "data": {
      "text/plain": []
     },
     "execution_count": null,
     "metadata": {},
     "output_type": "execute_result"
    }
   ],
   "source": [
    "np.random.rand(2, 8)"
   ]
  },
  {
   "cell_type": "markdown",
   "metadata": {},
   "source": [
    "### for `torch.Tensor`\n",
    "\n",
    "We also define a default formatter for PyTorch `Tensor`s:"
   ]
  },
  {
   "cell_type": "code",
   "execution_count": null,
   "metadata": {},
   "outputs": [],
   "source": [
    "#export\n",
    "def torch_tensor_html(t):\n",
    "    ndarray_html(t.numpy())\n",
    "\n",
    "def tensor_stats_print_formatter(x, _, __):\n",
    "    print('×'.join(map(str, x.shape)) + \" \" + str(x.dtype) + ' tensor')\n",
    "\n",
    "def register_torch_tensor_formatter(print_formatter=tensor_stats_print_formatter):\n",
    "    register_formatter(torch.Tensor, torch_tensor_html, print_formatter)"
   ]
  },
  {
   "cell_type": "code",
   "execution_count": null,
   "metadata": {},
   "outputs": [
    {
     "name": "stdout",
     "output_type": "stream",
     "text": [
      "10×4 torch.float32 tensor\n"
     ]
    },
    {
     "data": {
      "text/html": "<div style=\"overflow: auto\"><table><tr><th></th><th>0</th><th>1</th><th>2</th><th>3</th></tr><tr><td><b>0</b></td><td style=\"background-color: #6f6dfb\">0.059401</td><td style=\"background-color: #c94058\">0.80517</td><td style=\"background-color: #8f5dc1\">0.32449</td><td style=\"background-color: #7f65de\">0.19236</td></tr><tr><td><b>1</b></td><td style=\"background-color: #d13c4a\">0.87222</td><td style=\"background-color: #b14c83\">0.60864</td><td style=\"background-color: #915cbd\">0.3428</td><td style=\"background-color: #c34363\">0.75751</td></tr><tr><td><b>2</b></td><td style=\"background-color: #c24365\">0.74584</td><td style=\"background-color: #7d66e3\">0.17048</td><td style=\"background-color: #ae4d8a\">0.57657</td><td style=\"background-color: #a85093\">0.53344</td></tr><tr><td><b>3</b></td><td style=\"background-color: #c34363\">0.75652</td><td style=\"background-color: #ad4e8c\">0.56956</td><td style=\"background-color: #7b67e5\">0.1592</td><td style=\"background-color: #9a57ae\">0.41391</td></tr><tr><td><b>4</b></td><td style=\"background-color: #7669ef\">0.11494</td><td style=\"background-color: #ac4e8d\">0.56134</td><td style=\"background-color: #ba4773\">0.68147</td><td style=\"background-color: #c7415b\">0.7926</td></tr><tr><td><b>5</b></td><td style=\"background-color: #6f6dfc\">0.055549</td><td style=\"background-color: #a154a1\">0.47204</td><td style=\"background-color: #a154a1\">0.47246</td><td style=\"background-color: #6e6dfe\">0.045021</td></tr><tr><td><b>6</b></td><td style=\"background-color: #a3539e\">0.48567</td><td style=\"background-color: #ac4e8c\">0.56684</td><td style=\"background-color: #7c66e5\">0.16062</td><td style=\"background-color: #716cf9\">0.068107</td></tr><tr><td><b>7</b></td><td style=\"background-color: #c24365\">0.7451</td><td style=\"background-color: #6e6eff\">0.042947</td><td style=\"background-color: #ba4774\">0.67884</td><td style=\"background-color: #8562d4\">0.23879</td></tr><tr><td><b>8</b></td><td style=\"background-color: #7769ec\">0.12544</td><td style=\"background-color: #8661d1\">0.25079</td><td style=\"background-color: #a2539e\">0.48289</td><td style=\"background-color: #dc3737\">0.95939</td></tr><tr><td><b>9</b></td><td style=\"background-color: #7c66e4\">0.16596</td><td style=\"background-color: #8c5ec7\">0.29857</td><td style=\"background-color: #d53a42\">0.90868</td><td style=\"background-color: #9759b3\">0.38793</td></tr></table></div>",
      "text/plain": "<IPython.core.display.HTML object>"
     },
     "metadata": {},
     "output_type": "display_data"
    },
    {
     "data": {
      "text/plain": []
     },
     "execution_count": null,
     "metadata": {},
     "output_type": "execute_result"
    }
   ],
   "source": [
    "import torch\n",
    "\n",
    "register_torch_tensor_formatter()\n",
    "\n",
    "torch.Tensor(np.random.rand(10, 4))"
   ]
  },
  {
   "cell_type": "markdown",
   "metadata": {},
   "source": [
    "### Default configuration for convenience\n",
    "\n",
    "Finally we define a convenience function to quickly initialise the default configuration where both ndarrays and PyTorch tensors are formatted."
   ]
  },
  {
   "cell_type": "code",
   "execution_count": null,
   "metadata": {},
   "outputs": [],
   "source": [
    "#export\n",
    "def default():\n",
    "    register_ndarray_formatter()\n",
    "    if 'torch' in modules:\n",
    "        register_torch_tensor_formatter()"
   ]
  },
  {
   "cell_type": "code",
   "execution_count": null,
   "metadata": {},
   "outputs": [],
   "source": [
    "default()"
   ]
  },
  {
   "cell_type": "markdown",
   "metadata": {},
   "source": [
    "---\n",
    "\n",
    "### TODOs and potential new features\n",
    "- [x] zero-dim arrays\n",
    "- [x] strings\n",
    "- [x] ints\n",
    "- [x] bools\n",
    "- [ ] slider for decimal places or text field for format\n",
    "- [ ] fallback in case of exception\n",
    "- [ ] size limit: if array is larger than certain size, do auto-slicing\n",
    "- [ ] unregister hook\n",
    "- [ ] check if in IPython and don't crash otherwise"
   ]
  }
 ],
 "metadata": {
  "kernelspec": {
   "display_name": "Python 3",
   "language": "python",
   "name": "python3"
  }
 },
 "nbformat": 4,
 "nbformat_minor": 2
}
