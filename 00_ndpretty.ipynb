{
 "cells": [
  {
   "cell_type": "code",
   "execution_count": null,
   "metadata": {},
   "outputs": [],
   "source": [
    "# default_exp core"
   ]
  },
  {
   "cell_type": "markdown",
   "metadata": {},
   "source": [
    "# Implementation\n",
    "\n",
    "This is the implementation of `ndpretty`. "
   ]
  },
  {
   "cell_type": "code",
   "execution_count": null,
   "metadata": {},
   "outputs": [],
   "source": [
    "#export\n",
    "import numpy as np\n",
    "from sys import modules\n",
    "\n",
    "import IPython\n",
    "from ipywidgets import interact, interactive, fixed, interact_manual\n",
    "import ipywidgets as widgets"
   ]
  },
  {
   "cell_type": "markdown",
   "metadata": {},
   "source": [
    "Some static definitions of the colour scale and the number format."
   ]
  },
  {
   "cell_type": "code",
   "execution_count": null,
   "metadata": {},
   "outputs": [],
   "source": [
    "#export\n",
    "lowest_color = (110, 110, 255)\n",
    "highest_color = (220, 55, 55)\n",
    "\n",
    "number_format = '%.5g'"
   ]
  },
  {
   "cell_type": "markdown",
   "metadata": {},
   "source": [
    "And the core implementation:"
   ]
  },
  {
   "cell_type": "code",
   "execution_count": null,
   "metadata": {},
   "outputs": [],
   "source": [
    "#export\n",
    "def ndarray_html(a):\n",
    "    assert type(np.array([])) == np.ndarray, 'Only numpy ndarrays are supported'\n",
    "\n",
    "    if len(a.shape) == 1:\n",
    "        if a.shape[0] == 0:\n",
    "            print('[]')\n",
    "            return\n",
    "        _html_array(a[:,np.newaxis])\n",
    "    elif len(a.shape) == 2:\n",
    "        _html_array(a)\n",
    "    elif len(a.shape) > 2:\n",
    "        d = len(a.shape)\n",
    "        slice_str = \"[:, :, \" + \"0, \" * (d - 3) + \"0]\"\n",
    "        slice_widget = widgets.Text(\n",
    "            value=slice_str,\n",
    "            placeholder=\"e.g. \" + slice_str,\n",
    "            description='Slice:',\n",
    "            disabled=False\n",
    "        )\n",
    "        interact(_html_higher_d_array, a=fixed(a), slice_str=slice_widget)\n",
    "\n",
    "def _to_HTML(a, alphas, is_numeric, lowest_color, highest_color):\n",
    "    html = '<div style=\"overflow: auto\">'\n",
    "    html += '<table style=\"border-spacing: 0px;\">'\n",
    "    html += '<tr>'\n",
    "    html += '<th></th>'\n",
    "    for j in range(a.shape[1]):\n",
    "        html += f'<th>{j}</th>'\n",
    "    html += '</tr>'\n",
    "\n",
    "    for i in range(a.shape[0]):\n",
    "        html += \"<tr>\"\n",
    "        html += f'<td><b>{i}</b></td>'\n",
    "        for j in range(a.shape[1]):\n",
    "            alpha = alphas[i][j]\n",
    "            rgb_color = tuple((alpha * np.array(highest_color) + (1 - alpha) * np.array(lowest_color)).astype(np.uint8))\n",
    "            hex_color = '#%02x%02x%02x' % rgb_color\n",
    "            if is_numeric:\n",
    "                value = number_format % a[i][j]\n",
    "            else:\n",
    "                value = str(a[i][j])\n",
    "            html += '<td style=\"background-color: %s; padding:5px !important\">%s</td>' % (hex_color, value)\n",
    "        html += \"</tr>\"\n",
    "    html += '</table>'\n",
    "    html += '</div>'\n",
    "    return html\n",
    "\n",
    "def _html_higher_d_array(a, slice_str):\n",
    "    try: \n",
    "        sliced_a = eval(\"a\" + slice_str)\n",
    "        assert len(sliced_a.shape) == 2, \"didn't slice down to 2D\"\n",
    "        _html_array(sliced_a)\n",
    "    except Exception as e:\n",
    "        print(\"Invalid slice: \" + str(e))\n",
    "\n",
    "def _html_array(a):   \n",
    "    is_numeric = np.issubdtype(a.dtype, np.number)\n",
    "\n",
    "    if is_numeric:\n",
    "        a_range = a.max() - a.min()\n",
    "        if a_range == 0:\n",
    "            alphas = np.zeros_like(a, dtype=np.float) + 0.5\n",
    "        else:\n",
    "            alphas = (a - a.min()) / a_range\n",
    "    elif np.issubdtype(a.dtype, np.bool_):\n",
    "        alphas = a.astype(np.float)\n",
    "    else:\n",
    "        alphas = np.zeros_like(a, dtype=np.float) + 0.5\n",
    "\n",
    "    html = _to_HTML(a, alphas, is_numeric, lowest_color, highest_color)\n",
    "    IPython.core.display.display(IPython.display.HTML(html))"
   ]
  },
  {
   "cell_type": "markdown",
   "metadata": {},
   "source": [
    "## Example usages\n",
    "\n",
    "A numeric 2D array:"
   ]
  },
  {
   "cell_type": "code",
   "execution_count": null,
   "metadata": {},
   "outputs": [
    {
     "data": {
      "text/html": "<div style=\"overflow: auto\"><table style=\"border-spacing: 0px;\"><tr><th></th><th>0</th><th>1</th><th>2</th><th>3</th><th>4</th><th>5</th><th>6</th><th>7</th><th>8</th><th>9</th></tr><tr><td><b>0</b></td><td style=\"background-color: #dc3737; padding:5px !important\">1</td><td style=\"background-color: #6e6eff; padding:5px !important\">0</td><td style=\"background-color: #6e6eff; padding:5px !important\">0</td><td style=\"background-color: #6e6eff; padding:5px !important\">0</td><td style=\"background-color: #6e6eff; padding:5px !important\">0</td><td style=\"background-color: #6e6eff; padding:5px !important\">0</td><td style=\"background-color: #6e6eff; padding:5px !important\">0</td><td style=\"background-color: #6e6eff; padding:5px !important\">0</td><td style=\"background-color: #6e6eff; padding:5px !important\">0</td><td style=\"background-color: #6e6eff; padding:5px !important\">0</td></tr><tr><td><b>1</b></td><td style=\"background-color: #6e6eff; padding:5px !important\">0</td><td style=\"background-color: #dc3737; padding:5px !important\">1</td><td style=\"background-color: #6e6eff; padding:5px !important\">0</td><td style=\"background-color: #6e6eff; padding:5px !important\">0</td><td style=\"background-color: #6e6eff; padding:5px !important\">0</td><td style=\"background-color: #6e6eff; padding:5px !important\">0</td><td style=\"background-color: #6e6eff; padding:5px !important\">0</td><td style=\"background-color: #6e6eff; padding:5px !important\">0</td><td style=\"background-color: #6e6eff; padding:5px !important\">0</td><td style=\"background-color: #6e6eff; padding:5px !important\">0</td></tr><tr><td><b>2</b></td><td style=\"background-color: #6e6eff; padding:5px !important\">0</td><td style=\"background-color: #6e6eff; padding:5px !important\">0</td><td style=\"background-color: #dc3737; padding:5px !important\">1</td><td style=\"background-color: #6e6eff; padding:5px !important\">0</td><td style=\"background-color: #6e6eff; padding:5px !important\">0</td><td style=\"background-color: #6e6eff; padding:5px !important\">0</td><td style=\"background-color: #6e6eff; padding:5px !important\">0</td><td style=\"background-color: #6e6eff; padding:5px !important\">0</td><td style=\"background-color: #6e6eff; padding:5px !important\">0</td><td style=\"background-color: #6e6eff; padding:5px !important\">0</td></tr><tr><td><b>3</b></td><td style=\"background-color: #6e6eff; padding:5px !important\">0</td><td style=\"background-color: #6e6eff; padding:5px !important\">0</td><td style=\"background-color: #6e6eff; padding:5px !important\">0</td><td style=\"background-color: #dc3737; padding:5px !important\">1</td><td style=\"background-color: #6e6eff; padding:5px !important\">0</td><td style=\"background-color: #6e6eff; padding:5px !important\">0</td><td style=\"background-color: #6e6eff; padding:5px !important\">0</td><td style=\"background-color: #6e6eff; padding:5px !important\">0</td><td style=\"background-color: #6e6eff; padding:5px !important\">0</td><td style=\"background-color: #6e6eff; padding:5px !important\">0</td></tr><tr><td><b>4</b></td><td style=\"background-color: #6e6eff; padding:5px !important\">0</td><td style=\"background-color: #6e6eff; padding:5px !important\">0</td><td style=\"background-color: #6e6eff; padding:5px !important\">0</td><td style=\"background-color: #6e6eff; padding:5px !important\">0</td><td style=\"background-color: #dc3737; padding:5px !important\">1</td><td style=\"background-color: #6e6eff; padding:5px !important\">0</td><td style=\"background-color: #6e6eff; padding:5px !important\">0</td><td style=\"background-color: #6e6eff; padding:5px !important\">0</td><td style=\"background-color: #6e6eff; padding:5px !important\">0</td><td style=\"background-color: #6e6eff; padding:5px !important\">0</td></tr><tr><td><b>5</b></td><td style=\"background-color: #6e6eff; padding:5px !important\">0</td><td style=\"background-color: #6e6eff; padding:5px !important\">0</td><td style=\"background-color: #6e6eff; padding:5px !important\">0</td><td style=\"background-color: #6e6eff; padding:5px !important\">0</td><td style=\"background-color: #6e6eff; padding:5px !important\">0</td><td style=\"background-color: #dc3737; padding:5px !important\">1</td><td style=\"background-color: #6e6eff; padding:5px !important\">0</td><td style=\"background-color: #6e6eff; padding:5px !important\">0</td><td style=\"background-color: #6e6eff; padding:5px !important\">0</td><td style=\"background-color: #6e6eff; padding:5px !important\">0</td></tr><tr><td><b>6</b></td><td style=\"background-color: #6e6eff; padding:5px !important\">0</td><td style=\"background-color: #6e6eff; padding:5px !important\">0</td><td style=\"background-color: #6e6eff; padding:5px !important\">0</td><td style=\"background-color: #6e6eff; padding:5px !important\">0</td><td style=\"background-color: #6e6eff; padding:5px !important\">0</td><td style=\"background-color: #6e6eff; padding:5px !important\">0</td><td style=\"background-color: #dc3737; padding:5px !important\">1</td><td style=\"background-color: #6e6eff; padding:5px !important\">0</td><td style=\"background-color: #6e6eff; padding:5px !important\">0</td><td style=\"background-color: #6e6eff; padding:5px !important\">0</td></tr><tr><td><b>7</b></td><td style=\"background-color: #6e6eff; padding:5px !important\">0</td><td style=\"background-color: #6e6eff; padding:5px !important\">0</td><td style=\"background-color: #6e6eff; padding:5px !important\">0</td><td style=\"background-color: #6e6eff; padding:5px !important\">0</td><td style=\"background-color: #6e6eff; padding:5px !important\">0</td><td style=\"background-color: #6e6eff; padding:5px !important\">0</td><td style=\"background-color: #6e6eff; padding:5px !important\">0</td><td style=\"background-color: #dc3737; padding:5px !important\">1</td><td style=\"background-color: #6e6eff; padding:5px !important\">0</td><td style=\"background-color: #6e6eff; padding:5px !important\">0</td></tr><tr><td><b>8</b></td><td style=\"background-color: #6e6eff; padding:5px !important\">0</td><td style=\"background-color: #6e6eff; padding:5px !important\">0</td><td style=\"background-color: #6e6eff; padding:5px !important\">0</td><td style=\"background-color: #6e6eff; padding:5px !important\">0</td><td style=\"background-color: #6e6eff; padding:5px !important\">0</td><td style=\"background-color: #6e6eff; padding:5px !important\">0</td><td style=\"background-color: #6e6eff; padding:5px !important\">0</td><td style=\"background-color: #6e6eff; padding:5px !important\">0</td><td style=\"background-color: #dc3737; padding:5px !important\">1</td><td style=\"background-color: #6e6eff; padding:5px !important\">0</td></tr><tr><td><b>9</b></td><td style=\"background-color: #6e6eff; padding:5px !important\">0</td><td style=\"background-color: #6e6eff; padding:5px !important\">0</td><td style=\"background-color: #6e6eff; padding:5px !important\">0</td><td style=\"background-color: #6e6eff; padding:5px !important\">0</td><td style=\"background-color: #6e6eff; padding:5px !important\">0</td><td style=\"background-color: #6e6eff; padding:5px !important\">0</td><td style=\"background-color: #6e6eff; padding:5px !important\">0</td><td style=\"background-color: #6e6eff; padding:5px !important\">0</td><td style=\"background-color: #6e6eff; padding:5px !important\">0</td><td style=\"background-color: #dc3737; padding:5px !important\">1</td></tr></table></div>",
      "text/plain": "<IPython.core.display.HTML object>"
     },
     "metadata": {},
     "output_type": "display_data"
    }
   ],
   "source": [
    "ndarray_html(np.diag(np.ones(10)))"
   ]
  },
  {
   "cell_type": "markdown",
   "metadata": {},
   "source": [
    "A numeric 1D array:"
   ]
  },
  {
   "cell_type": "code",
   "execution_count": null,
   "metadata": {},
   "outputs": [
    {
     "data": {
      "text/html": "<div style=\"overflow: auto\"><table style=\"border-spacing: 0px;\"><tr><th></th><th>0</th></tr><tr><td><b>0</b></td><td style=\"background-color: #a5529b; padding:5px !important\">1</td></tr><tr><td><b>1</b></td><td style=\"background-color: #a5529b; padding:5px !important\">1</td></tr><tr><td><b>2</b></td><td style=\"background-color: #a5529b; padding:5px !important\">1</td></tr><tr><td><b>3</b></td><td style=\"background-color: #a5529b; padding:5px !important\">1</td></tr><tr><td><b>4</b></td><td style=\"background-color: #a5529b; padding:5px !important\">1</td></tr><tr><td><b>5</b></td><td style=\"background-color: #a5529b; padding:5px !important\">1</td></tr><tr><td><b>6</b></td><td style=\"background-color: #a5529b; padding:5px !important\">1</td></tr><tr><td><b>7</b></td><td style=\"background-color: #a5529b; padding:5px !important\">1</td></tr><tr><td><b>8</b></td><td style=\"background-color: #a5529b; padding:5px !important\">1</td></tr><tr><td><b>9</b></td><td style=\"background-color: #a5529b; padding:5px !important\">1</td></tr></table></div>",
      "text/plain": "<IPython.core.display.HTML object>"
     },
     "metadata": {},
     "output_type": "display_data"
    }
   ],
   "source": [
    "ndarray_html(np.ones((10,)))"
   ]
  },
  {
   "cell_type": "markdown",
   "metadata": {},
   "source": [
    "A numeric 4D array:"
   ]
  },
  {
   "cell_type": "code",
   "execution_count": null,
   "metadata": {},
   "outputs": [
    {
     "data": {
      "application/vnd.jupyter.widget-view+json": {
       "model_id": "c6f3f2bcb3ec4853abbc6c0aebfc35f7",
       "version_major": 2,
       "version_minor": 0
      },
      "text/plain": "interactive(children=(Text(value='[:, :, 0, 0]', description='Slice:', placeholder='e.g. [:, :, 0, 0]'), Outpu…"
     },
     "metadata": {},
     "output_type": "display_data"
    }
   ],
   "source": [
    "ndarray_html(np.random.rand(2, 3, 4, 5))"
   ]
  },
  {
   "cell_type": "markdown",
   "metadata": {},
   "source": [
    "When an ndarray has more than two dimensions, a text field (an [ipywidget](https://ipywidgets.readthedocs.io)) is depicted on top of the table, where the user can slice down the array to have two dimension, so that it can be displayed in a table.\n",
    "\n",
    "_Note: The `ipywidget` that is used for multi-dimensional arrays is not correctly rendered in the documentation. Therefore see this screenshot:_ \n",
    "\n",
    "<img src=\"img/4D.png\" height=\"80px\" />"
   ]
  },
  {
   "cell_type": "markdown",
   "metadata": {},
   "source": [
    "A string array:"
   ]
  },
  {
   "cell_type": "code",
   "execution_count": null,
   "metadata": {},
   "outputs": [
    {
     "data": {
      "text/html": "<div style=\"overflow: auto\"><table style=\"border-spacing: 0px;\"><tr><th></th><th>0</th><th>1</th><th>2</th></tr><tr><td><b>0</b></td><td style=\"background-color: #a5529b; padding:5px !important\">nd</td><td style=\"background-color: #a5529b; padding:5px !important\"></td><td style=\"background-color: #a5529b; padding:5px !important\"></td></tr><tr><td><b>1</b></td><td style=\"background-color: #a5529b; padding:5px !important\"></td><td style=\"background-color: #a5529b; padding:5px !important\">pretty</td><td style=\"background-color: #a5529b; padding:5px !important\"></td></tr><tr><td><b>2</b></td><td style=\"background-color: #a5529b; padding:5px !important\"></td><td style=\"background-color: #a5529b; padding:5px !important\"></td><td style=\"background-color: #a5529b; padding:5px !important\">ndpretty</td></tr></table></div>",
      "text/plain": "<IPython.core.display.HTML object>"
     },
     "metadata": {},
     "output_type": "display_data"
    }
   ],
   "source": [
    "ndarray_html(np.diag(['nd', 'pretty', 'ndpretty']))"
   ]
  },
  {
   "cell_type": "markdown",
   "metadata": {},
   "source": [
    "A bool array:"
   ]
  },
  {
   "cell_type": "code",
   "execution_count": null,
   "metadata": {},
   "outputs": [
    {
     "data": {
      "text/html": "<div style=\"overflow: auto\"><table style=\"border-spacing: 0px;\"><tr><th></th><th>0</th></tr><tr><td><b>0</b></td><td style=\"background-color: #dc3737; padding:5px !important\">True</td></tr><tr><td><b>1</b></td><td style=\"background-color: #6e6eff; padding:5px !important\">False</td></tr><tr><td><b>2</b></td><td style=\"background-color: #dc3737; padding:5px !important\">True</td></tr></table></div>",
      "text/plain": "<IPython.core.display.HTML object>"
     },
     "metadata": {},
     "output_type": "display_data"
    }
   ],
   "source": [
    "ndarray_html(np.array([True, False, True]))"
   ]
  },
  {
   "cell_type": "markdown",
   "metadata": {},
   "source": [
    "## Registering formatters for IPython\n",
    "\n",
    "We don't always want to call `ndarray_html` to show our nice table. In order to make it the default formatter for cell return values, here are some helper functions to automatically register the formatters.\n",
    "\n",
    "This makes use of [IPyhton third-party formatters](https://ipython.readthedocs.io/en/stable/config/integrating.html?highlight=third%20party#formatters-for-third-party-types)."
   ]
  },
  {
   "cell_type": "code",
   "execution_count": null,
   "metadata": {},
   "outputs": [],
   "source": [
    "#export\n",
    "def register_formatter(dtype, html_formatter, print_formatter=None):\n",
    "    formatters = get_ipython().display_formatter.formatters\n",
    "    \n",
    "    formatters['text/html'].for_type(dtype, html_formatter)\n",
    "    if print_formatter is not None:\n",
    "        formatters['text/plain'].for_type(dtype, print_formatter)"
   ]
  },
  {
   "cell_type": "markdown",
   "metadata": {},
   "source": [
    "### for `ndarray`"
   ]
  },
  {
   "cell_type": "code",
   "execution_count": null,
   "metadata": {},
   "outputs": [],
   "source": [
    "#export\n",
    "def ndarray_stats_print_formatter(x, _, __):\n",
    "    print('×'.join(map(str, x.shape)) + \" \" + str(x.dtype) + ' ndarray')\n",
    "\n",
    "def no_print_formatter(x, _, __):\n",
    "    return\n",
    "\n",
    "def register_ndarray_formatter(print_formatter=ndarray_stats_print_formatter):\n",
    "    register_formatter(np.ndarray, ndarray_html, print_formatter)"
   ]
  },
  {
   "cell_type": "markdown",
   "metadata": {},
   "source": [
    "A formatter can be registered like this:"
   ]
  },
  {
   "cell_type": "code",
   "execution_count": null,
   "metadata": {},
   "outputs": [],
   "source": [
    "register_ndarray_formatter()"
   ]
  },
  {
   "cell_type": "markdown",
   "metadata": {},
   "source": [
    "From then onwards, all returned ndarrays are formatted using ndpretty."
   ]
  },
  {
   "cell_type": "code",
   "execution_count": null,
   "metadata": {},
   "outputs": [
    {
     "name": "stdout",
     "output_type": "stream",
     "text": [
      "2×8 float64 ndarray\n"
     ]
    },
    {
     "data": {
      "text/html": "<div style=\"overflow: auto\"><table style=\"border-spacing: 0px;\"><tr><th></th><th>0</th><th>1</th><th>2</th><th>3</th><th>4</th><th>5</th><th>6</th><th>7</th></tr><tr><td><b>0</b></td><td style=\"background-color: #8562d4; padding:5px !important\">0.18689</td><td style=\"background-color: #d7393e; padding:5px !important\">0.78882</td><td style=\"background-color: #bc4670; padding:5px !important\">0.58992</td><td style=\"background-color: #7868eb; padding:5px !important\">0.095676</td><td style=\"background-color: #dc3737; padding:5px !important\">0.82061</td><td style=\"background-color: #b74979; padding:5px !important\">0.55165</td><td style=\"background-color: #b24b82; padding:5px !important\">0.51786</td><td style=\"background-color: #8562d3; padding:5px !important\">0.19243</td></tr><tr><td><b>1</b></td><td style=\"background-color: #c24364; padding:5px !important\">0.63606</td><td style=\"background-color: #7669ef; padding:5px !important\">0.079773</td><td style=\"background-color: #6e6eff; padding:5px !important\">0.017149</td><td style=\"background-color: #9759b2; padding:5px !important\">0.32392</td><td style=\"background-color: #a2539e; padding:5px !important\">0.40327</td><td style=\"background-color: #726bf7; padding:5px !important\">0.046883</td><td style=\"background-color: #8c5ec7; padding:5px !important\">0.24154</td><td style=\"background-color: #945ab8; padding:5px !important\">0.3019</td></tr></table></div>",
      "text/plain": "<IPython.core.display.HTML object>"
     },
     "metadata": {},
     "output_type": "display_data"
    },
    {
     "data": {
      "text/plain": []
     },
     "execution_count": null,
     "metadata": {},
     "output_type": "execute_result"
    }
   ],
   "source": [
    "np.random.rand(2, 8)"
   ]
  },
  {
   "cell_type": "markdown",
   "metadata": {},
   "source": [
    "### for `torch.Tensor`\n",
    "\n",
    "We also define a default formatter for PyTorch `Tensor`s:"
   ]
  },
  {
   "cell_type": "code",
   "execution_count": null,
   "metadata": {},
   "outputs": [],
   "source": [
    "#export\n",
    "def torch_tensor_html(t):\n",
    "    ndarray_html(t.numpy())\n",
    "\n",
    "def tensor_stats_print_formatter(x, _, __):\n",
    "    print('×'.join(map(str, x.shape)) + \" \" + str(x.dtype) + ' tensor')\n",
    "\n",
    "def register_torch_tensor_formatter(print_formatter=tensor_stats_print_formatter):\n",
    "    register_formatter(torch.Tensor, torch_tensor_html, print_formatter)"
   ]
  },
  {
   "cell_type": "code",
   "execution_count": null,
   "metadata": {},
   "outputs": [
    {
     "name": "stdout",
     "output_type": "stream",
     "text": [
      "10×4 torch.float32 tensor\n"
     ]
    },
    {
     "data": {
      "text/html": "<div style=\"overflow: auto\"><table style=\"border-spacing: 0px;\"><tr><th></th><th>0</th><th>1</th><th>2</th><th>3</th></tr><tr><td><b>0</b></td><td style=\"background-color: #8c5ec7; padding:5px !important\">0.29054</td><td style=\"background-color: #8064dd; padding:5px !important\">0.18416</td><td style=\"background-color: #c7415c; padding:5px !important\">0.80904</td><td style=\"background-color: #cc3e52; padding:5px !important\">0.8563</td></tr><tr><td><b>1</b></td><td style=\"background-color: #6e6dfd; padding:5px !important\">0.029186</td><td style=\"background-color: #9a57ae; padding:5px !important\">0.41317</td><td style=\"background-color: #9759b3; padding:5px !important\">0.38939</td><td style=\"background-color: #9958af; padding:5px !important\">0.41008</td></tr><tr><td><b>2</b></td><td style=\"background-color: #945ab9; padding:5px !important\">0.35863</td><td style=\"background-color: #cc3e53; padding:5px !important\">0.85525</td><td style=\"background-color: #6e6eff; padding:5px !important\">0.023868</td><td style=\"background-color: #b44a7e; padding:5px !important\">0.64776</td></tr><tr><td><b>3</b></td><td style=\"background-color: #c24365; padding:5px !important\">0.76839</td><td style=\"background-color: #dc3737; padding:5px !important\">0.99176</td><td style=\"background-color: #9759b3; padding:5px !important\">0.38977</td><td style=\"background-color: #a4529b; padding:5px !important\">0.50657</td></tr><tr><td><b>4</b></td><td style=\"background-color: #c24365; padding:5px !important\">0.76452</td><td style=\"background-color: #905cc0; padding:5px !important\">0.32671</td><td style=\"background-color: #8363d8; padding:5px !important\">0.21047</td><td style=\"background-color: #7968ea; padding:5px !important\">0.12448</td></tr><tr><td><b>5</b></td><td style=\"background-color: #a65198; padding:5px !important\">0.52167</td><td style=\"background-color: #c7415b; padding:5px !important\">0.81528</td><td style=\"background-color: #9c56aa; padding:5px !important\">0.43246</td><td style=\"background-color: #7a67e8; padding:5px !important\">0.13116</td></tr><tr><td><b>6</b></td><td style=\"background-color: #a95092; padding:5px !important\">0.55106</td><td style=\"background-color: #b94876; padding:5px !important\">0.68584</td><td style=\"background-color: #bf456a; padding:5px !important\">0.74121</td><td style=\"background-color: #a4529b; padding:5px !important\">0.5054</td></tr><tr><td><b>7</b></td><td style=\"background-color: #746af2; padding:5px !important\">0.082854</td><td style=\"background-color: #726bf7; padding:5px !important\">0.060578</td><td style=\"background-color: #925bbc; padding:5px !important\">0.34765</td><td style=\"background-color: #bc466f; padding:5px !important\">0.71714</td></tr><tr><td><b>8</b></td><td style=\"background-color: #c04469; padding:5px !important\">0.74941</td><td style=\"background-color: #9d56a9; padding:5px !important\">0.43766</td><td style=\"background-color: #b54a7d; padding:5px !important\">0.64867</td><td style=\"background-color: #a2539e; padding:5px !important\">0.48969</td></tr><tr><td><b>9</b></td><td style=\"background-color: #c94058; padding:5px !important\">0.83203</td><td style=\"background-color: #c14467; padding:5px !important\">0.7578</td><td style=\"background-color: #a3539c; padding:5px !important\">0.49865</td><td style=\"background-color: #8c5ec6; padding:5px !important\">0.29599</td></tr></table></div>",
      "text/plain": "<IPython.core.display.HTML object>"
     },
     "metadata": {},
     "output_type": "display_data"
    },
    {
     "data": {
      "text/plain": []
     },
     "execution_count": null,
     "metadata": {},
     "output_type": "execute_result"
    }
   ],
   "source": [
    "if 'torch' in modules:\n",
    "    register_torch_tensor_formatter()\n",
    "    t = torch.Tensor(np.random.rand(10, 4))\n",
    "else:\n",
    "    t = 'torch not imported'\n",
    "t"
   ]
  },
  {
   "cell_type": "markdown",
   "metadata": {},
   "source": [
    "### Default configuration for convenience\n",
    "\n",
    "Finally we define a convenience function to quickly initialise the default configuration where both ndarrays and PyTorch tensors are formatted."
   ]
  },
  {
   "cell_type": "code",
   "execution_count": null,
   "metadata": {},
   "outputs": [],
   "source": [
    "#export\n",
    "def default():\n",
    "    register_ndarray_formatter()\n",
    "    if 'torch' in modules:\n",
    "        register_torch_tensor_formatter()"
   ]
  },
  {
   "cell_type": "code",
   "execution_count": null,
   "metadata": {},
   "outputs": [],
   "source": [
    "default()"
   ]
  },
  {
   "cell_type": "markdown",
   "metadata": {},
   "source": [
    "---\n",
    "\n",
    "### TODOs and potential new features\n",
    "- [x] zero-dim arrays\n",
    "- [x] strings\n",
    "- [x] ints\n",
    "- [x] bools\n",
    "- [ ] slider for decimal places or text field for format\n",
    "- [ ] fallback in case of exception\n",
    "- [ ] size limit: if array is larger than certain size, do auto-slicing\n",
    "- [ ] unregister hook\n",
    "- [ ] check if in IPython and don't crash otherwise"
   ]
  }
 ],
 "metadata": {
  "kernelspec": {
   "display_name": "Python 3",
   "language": "python",
   "name": "python3"
  }
 },
 "nbformat": 4,
 "nbformat_minor": 2
}
