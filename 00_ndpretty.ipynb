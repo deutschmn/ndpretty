{
 "cells": [
  {
   "cell_type": "code",
   "execution_count": null,
   "metadata": {},
   "outputs": [],
   "source": [
    "# default_exp core"
   ]
  },
  {
   "cell_type": "markdown",
   "metadata": {},
   "source": [
    "# Implementation\n",
    "\n",
    "This is the implementation of `ndpretty`. "
   ]
  },
  {
   "cell_type": "code",
   "execution_count": null,
   "metadata": {},
   "outputs": [],
   "source": [
    "#export\n",
    "import numpy as np\n",
    "from sys import modules\n",
    "\n",
    "import IPython\n",
    "from ipywidgets import interact, interactive, fixed, interact_manual\n",
    "import ipywidgets as widgets"
   ]
  },
  {
   "cell_type": "markdown",
   "metadata": {},
   "source": [
    "Some static definitions of the colour scale and the number format."
   ]
  },
  {
   "cell_type": "code",
   "execution_count": null,
   "metadata": {},
   "outputs": [],
   "source": [
    "#export\n",
    "lowest_color = (110, 110, 255)\n",
    "highest_color = (220, 55, 55)\n",
    "\n",
    "number_format = '%.5g'\n",
    "\n",
    "# if an array dimension is bigger than this, automatically reduce by slicing to improve performance\n",
    "default_max_dim_size = 200"
   ]
  },
  {
   "cell_type": "markdown",
   "metadata": {},
   "source": [
    "And the core implementation:"
   ]
  },
  {
   "cell_type": "code",
   "execution_count": null,
   "metadata": {},
   "outputs": [],
   "source": [
    "#export\n",
    "def ndarray_html(a):\n",
    "    assert type(np.array([])) == np.ndarray, 'Only numpy ndarrays are supported'\n",
    "\n",
    "    if len(a.shape) == 1:\n",
    "        if a.shape[0] == 0:\n",
    "            print('[]')\n",
    "            return\n",
    "        a = a[:,np.newaxis]\n",
    "\n",
    "    slice_str = _create_default_slice(a)\n",
    "    slice_widget = widgets.Text(\n",
    "        value=slice_str,\n",
    "        placeholder=\"e.g. \" + slice_str,\n",
    "        description='Slice:',\n",
    "        disabled=False\n",
    "    )\n",
    "    interact(_html_slice_array, a=fixed(a), slice_str=slice_widget)\n",
    "\n",
    "def _create_default_slice(a):\n",
    "    d = len(a.shape)\n",
    "    assert d >= 2\n",
    "    sl = []\n",
    "    for i in [0, 1]:\n",
    "        sl.append(\":\" if min(a.shape[i], default_max_dim_size) < default_max_dim_size else \":\" + str(default_max_dim_size))\n",
    "    sl.extend([\"0\"] * (d - 2))\n",
    "    return \"[\" + \", \".join(sl) + \"]\"\n",
    "\n",
    "\n",
    "def _to_HTML(a, alphas, is_numeric, lowest_color, highest_color):\n",
    "    html = '<div style=\"overflow: auto\">'\n",
    "    html += '<table style=\"border-spacing: 0px;\">'\n",
    "    html += '<tr>'\n",
    "    html += '<th></th>'\n",
    "    for j in range(a.shape[1]):\n",
    "        html += f'<th>{j}</th>'\n",
    "    html += '</tr>'\n",
    "\n",
    "    for i in range(a.shape[0]):\n",
    "        html += \"<tr>\"\n",
    "        html += f'<td><b>{i}</b></td>'\n",
    "        for j in range(a.shape[1]):\n",
    "            alpha = alphas[i][j]\n",
    "            rgb_color = tuple((alpha * np.array(highest_color) + (1 - alpha) * np.array(lowest_color)).astype(np.uint8))\n",
    "            hex_color = '#%02x%02x%02x' % rgb_color\n",
    "            if is_numeric:\n",
    "                value = number_format % a[i][j]\n",
    "            else:\n",
    "                value = str(a[i][j])\n",
    "            html += '<td style=\"background-color: %s; padding:5px !important\">%s</td>' % (hex_color, value)\n",
    "        html += \"</tr>\"\n",
    "    html += '</table>'\n",
    "    html += '</div>'\n",
    "    return html\n",
    "\n",
    "def _html_slice_array(a, slice_str):\n",
    "    try: \n",
    "        sliced_a = eval(\"a\" + slice_str)\n",
    "        assert len(sliced_a.shape) == 2, \"didn't slice down to 2D\"\n",
    "        _html_array(sliced_a)\n",
    "    except Exception as e:\n",
    "        print(\"Invalid slice: \" + str(e))\n",
    "\n",
    "def _html_array(a):   \n",
    "    is_numeric = np.issubdtype(a.dtype, np.number)\n",
    "\n",
    "    if is_numeric:\n",
    "        a_range = a.max() - a.min()\n",
    "        if a_range == 0:\n",
    "            alphas = np.zeros_like(a, dtype=np.float) + 0.5\n",
    "        else:\n",
    "            alphas = (a - a.min()) / a_range\n",
    "    elif np.issubdtype(a.dtype, np.bool_):\n",
    "        alphas = a.astype(np.float)\n",
    "    else:\n",
    "        alphas = np.zeros_like(a, dtype=np.float) + 0.5\n",
    "\n",
    "    html = _to_HTML(a, alphas, is_numeric, lowest_color, highest_color)\n",
    "    IPython.core.display.display(IPython.display.HTML(html))"
   ]
  },
  {
   "cell_type": "markdown",
   "metadata": {},
   "source": [
    "## Example usages\n",
    "\n",
    "A numeric 2D array:"
   ]
  },
  {
   "cell_type": "code",
   "execution_count": null,
   "metadata": {},
   "outputs": [
    {
     "data": {
      "application/vnd.jupyter.widget-view+json": {
       "model_id": "2a317d8fbf7e4ef4810d1c4691c04ef1",
       "version_major": 2,
       "version_minor": 0
      },
      "text/plain": "interactive(children=(Text(value='[:, :]', description='Slice:', placeholder='e.g. [:, :]'), Output()), _dom_c…"
     },
     "metadata": {},
     "output_type": "display_data"
    }
   ],
   "source": [
    "ndarray_html(np.diag(np.ones(10)))"
   ]
  },
  {
   "cell_type": "markdown",
   "metadata": {},
   "source": [
    "A numeric 1D array:"
   ]
  },
  {
   "cell_type": "code",
   "execution_count": null,
   "metadata": {},
   "outputs": [
    {
     "data": {
      "application/vnd.jupyter.widget-view+json": {
       "model_id": "83e704a539524bea852add26cbf4a888",
       "version_major": 2,
       "version_minor": 0
      },
      "text/plain": "interactive(children=(Text(value='[:, :]', description='Slice:', placeholder='e.g. [:, :]'), Output()), _dom_c…"
     },
     "metadata": {},
     "output_type": "display_data"
    }
   ],
   "source": [
    "ndarray_html(np.ones((10,)))"
   ]
  },
  {
   "cell_type": "markdown",
   "metadata": {},
   "source": [
    "A numeric 4D array:"
   ]
  },
  {
   "cell_type": "code",
   "execution_count": null,
   "metadata": {},
   "outputs": [
    {
     "data": {
      "application/vnd.jupyter.widget-view+json": {
       "model_id": "e2b4e0fe0d8746afbbd0360a621d7f02",
       "version_major": 2,
       "version_minor": 0
      },
      "text/plain": "interactive(children=(Text(value='[:, :, 0, 0]', description='Slice:', placeholder='e.g. [:, :, 0, 0]'), Outpu…"
     },
     "metadata": {},
     "output_type": "display_data"
    }
   ],
   "source": [
    "ndarray_html(np.random.rand(2, 3, 4, 5))"
   ]
  },
  {
   "cell_type": "markdown",
   "metadata": {},
   "source": [
    "When an ndarray has more than two dimensions, a text field (an [ipywidget](https://ipywidgets.readthedocs.io)) is depicted on top of the table, where the user can slice down the array to have two dimension, so that it can be displayed in a table.\n",
    "\n",
    "_Note: The `ipywidget` that is used for multi-dimensional arrays is not correctly rendered in the documentation. Therefore see this screenshot:_ \n",
    "\n",
    "<img src=\"img/4D.png\" height=\"80px\" />"
   ]
  },
  {
   "cell_type": "markdown",
   "metadata": {},
   "source": [
    "A string array:"
   ]
  },
  {
   "cell_type": "code",
   "execution_count": null,
   "metadata": {},
   "outputs": [
    {
     "data": {
      "application/vnd.jupyter.widget-view+json": {
       "model_id": "cdc75bc83c1f4a9288fb171857f4016f",
       "version_major": 2,
       "version_minor": 0
      },
      "text/plain": "interactive(children=(Text(value='[:, :]', description='Slice:', placeholder='e.g. [:, :]'), Output()), _dom_c…"
     },
     "metadata": {},
     "output_type": "display_data"
    }
   ],
   "source": [
    "ndarray_html(np.diag(['nd', 'pretty', 'ndpretty']))"
   ]
  },
  {
   "cell_type": "markdown",
   "metadata": {},
   "source": [
    "A bool array:"
   ]
  },
  {
   "cell_type": "code",
   "execution_count": null,
   "metadata": {},
   "outputs": [
    {
     "data": {
      "application/vnd.jupyter.widget-view+json": {
       "model_id": "165aa4b6029742e188be7a4cb9b3960e",
       "version_major": 2,
       "version_minor": 0
      },
      "text/plain": "interactive(children=(Text(value='[:, :]', description='Slice:', placeholder='e.g. [:, :]'), Output()), _dom_c…"
     },
     "metadata": {},
     "output_type": "display_data"
    }
   ],
   "source": [
    "ndarray_html(np.array([True, False, True]))"
   ]
  },
  {
   "cell_type": "markdown",
   "metadata": {},
   "source": [
    "### Automatic default slicing\n",
    "\n",
    "When an array would generally be too huge to display, it is automatically downsliced to the value of `default_max_dim_size`."
   ]
  },
  {
   "cell_type": "code",
   "execution_count": null,
   "metadata": {},
   "outputs": [
    {
     "name": "stdout",
     "output_type": "stream",
     "text": [
      "default_max_dim_size is 200\n"
     ]
    },
    {
     "data": {
      "application/vnd.jupyter.widget-view+json": {
       "model_id": "0914365926024bdea9904e8b31562932",
       "version_major": 2,
       "version_minor": 0
      },
      "text/plain": "interactive(children=(Text(value='[:200, :200]', description='Slice:', placeholder='e.g. [:200, :200]'), Outpu…"
     },
     "metadata": {},
     "output_type": "display_data"
    }
   ],
   "source": [
    "print(f\"default_max_dim_size is {default_max_dim_size}\")\n",
    "ndarray_html(np.random.rand(10000, 1000))"
   ]
  },
  {
   "cell_type": "markdown",
   "metadata": {},
   "source": [
    "## Registering formatters for IPython\n",
    "\n",
    "We don't always want to call `ndarray_html` to show our nice table. In order to make it the default formatter for cell return values, here are some helper functions to automatically register the formatters.\n",
    "\n",
    "This makes use of [IPyhton third-party formatters](https://ipython.readthedocs.io/en/stable/config/integrating.html?highlight=third%20party#formatters-for-third-party-types)."
   ]
  },
  {
   "cell_type": "code",
   "execution_count": null,
   "metadata": {},
   "outputs": [],
   "source": [
    "#export\n",
    "def register_formatter(dtype, html_formatter, print_formatter=None):\n",
    "    formatters = get_ipython().display_formatter.formatters\n",
    "    \n",
    "    formatters['text/html'].for_type(dtype, html_formatter)\n",
    "    if print_formatter is not None:\n",
    "        formatters['text/plain'].for_type(dtype, print_formatter)"
   ]
  },
  {
   "cell_type": "markdown",
   "metadata": {},
   "source": [
    "### for `ndarray`"
   ]
  },
  {
   "cell_type": "code",
   "execution_count": null,
   "metadata": {},
   "outputs": [],
   "source": [
    "#export\n",
    "def ndarray_stats_print_formatter(x, _, __):\n",
    "    print('×'.join(map(str, x.shape)) + \" \" + str(x.dtype) + ' ndarray')\n",
    "\n",
    "def no_print_formatter(x, _, __):\n",
    "    return\n",
    "\n",
    "def register_ndarray_formatter(print_formatter=ndarray_stats_print_formatter):\n",
    "    register_formatter(np.ndarray, ndarray_html, print_formatter)"
   ]
  },
  {
   "cell_type": "markdown",
   "metadata": {},
   "source": [
    "A formatter can be registered like this:"
   ]
  },
  {
   "cell_type": "code",
   "execution_count": null,
   "metadata": {},
   "outputs": [],
   "source": [
    "register_ndarray_formatter()"
   ]
  },
  {
   "cell_type": "markdown",
   "metadata": {},
   "source": [
    "From then onwards, all returned ndarrays are formatted using ndpretty."
   ]
  },
  {
   "cell_type": "code",
   "execution_count": null,
   "metadata": {},
   "outputs": [
    {
     "name": "stdout",
     "output_type": "stream",
     "text": [
      "2×8 float64 ndarray\n"
     ]
    },
    {
     "data": {
      "application/vnd.jupyter.widget-view+json": {
       "model_id": "557e6fe64ca541f78da3ae3db3c9e2cc",
       "version_major": 2,
       "version_minor": 0
      },
      "text/plain": "interactive(children=(Text(value='[:, :]', description='Slice:', placeholder='e.g. [:, :]'), Output()), _dom_c…"
     },
     "metadata": {},
     "output_type": "display_data"
    },
    {
     "data": {
      "text/plain": []
     },
     "execution_count": null,
     "metadata": {},
     "output_type": "execute_result"
    }
   ],
   "source": [
    "np.random.rand(2, 8)"
   ]
  },
  {
   "cell_type": "markdown",
   "metadata": {},
   "source": [
    "### for `torch.Tensor`\n",
    "\n",
    "We also define a default formatter for PyTorch `Tensor`s:"
   ]
  },
  {
   "cell_type": "code",
   "execution_count": null,
   "metadata": {},
   "outputs": [],
   "source": [
    "#export\n",
    "def torch_tensor_html(t):\n",
    "    ndarray_html(t.numpy())\n",
    "\n",
    "def tensor_stats_print_formatter(x, _, __):\n",
    "    print('×'.join(map(str, x.shape)) + \" \" + str(x.dtype) + ' tensor')\n",
    "\n",
    "def register_torch_tensor_formatter(print_formatter=tensor_stats_print_formatter):\n",
    "    register_formatter(torch.Tensor, torch_tensor_html, print_formatter)"
   ]
  },
  {
   "cell_type": "code",
   "execution_count": null,
   "metadata": {},
   "outputs": [
    {
     "data": {
      "text/plain": [
       "'torch not imported'"
      ]
     },
     "execution_count": null,
     "metadata": {},
     "output_type": "execute_result"
    }
   ],
   "source": [
    "if 'torch' in modules:\n",
    "    register_torch_tensor_formatter()\n",
    "    t = torch.Tensor(np.random.rand(10, 4))\n",
    "else:\n",
    "    t = 'torch not imported'\n",
    "t"
   ]
  },
  {
   "cell_type": "markdown",
   "metadata": {},
   "source": [
    "### Default configuration for convenience\n",
    "\n",
    "Finally we define a convenience function to quickly initialise the default configuration where both ndarrays and PyTorch tensors are formatted."
   ]
  },
  {
   "cell_type": "code",
   "execution_count": null,
   "metadata": {},
   "outputs": [],
   "source": [
    "#export\n",
    "def default():\n",
    "    register_ndarray_formatter()\n",
    "    if 'torch' in modules:\n",
    "        register_torch_tensor_formatter()"
   ]
  },
  {
   "cell_type": "code",
   "execution_count": null,
   "metadata": {},
   "outputs": [],
   "source": [
    "default()"
   ]
  },
  {
   "cell_type": "markdown",
   "metadata": {},
   "source": [
    "---\n",
    "\n",
    "### TODOs and potential new features\n",
    "- [x] zero-dim arrays\n",
    "- [x] strings\n",
    "- [x] ints\n",
    "- [x] bools\n",
    "- [x] size limit: if array is larger than certain size, do auto-slicing\n",
    "- [ ] slider for decimal places or text field for format\n",
    "- [ ] fallback in case of exception\n",
    "- [ ] unregister hook\n",
    "- [ ] check if in IPython and don't crash otherwise"
   ]
  }
 ],
 "metadata": {
  "kernelspec": {
   "display_name": "Python 3",
   "language": "python",
   "name": "python3"
  }
 },
 "nbformat": 4,
 "nbformat_minor": 2
}
